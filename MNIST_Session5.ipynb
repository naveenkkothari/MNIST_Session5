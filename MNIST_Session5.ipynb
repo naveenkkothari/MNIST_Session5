{
  "nbformat": 4,
  "nbformat_minor": 0,
  "metadata": {
    "colab": {
      "provenance": [],
      "gpuType": "T4"
    },
    "kernelspec": {
      "name": "python3",
      "display_name": "Python 3"
    },
    "language_info": {
      "name": "python"
    },
    "accelerator": "GPU"
  },
  "cells": [
    {
      "cell_type": "code",
      "source": [],
      "metadata": {
        "id": "O2IX8_Rh_XxK"
      },
      "execution_count": null,
      "outputs": []
    },
    {
      "cell_type": "code",
      "execution_count": 1,
      "metadata": {
        "id": "sGju60hfQFWL"
      },
      "outputs": [],
      "source": [
        "from __future__ import print_function\n",
        "import torch\n",
        "import torch.nn as nn\n",
        "import torch.nn.functional as F\n",
        "import torch.optim as optim\n",
        "from torchvision import datasets, transforms\n",
        "import numpy as np"
      ]
    },
    {
      "cell_type": "code",
      "source": [
        "class Net(nn.Module):\n",
        "    def __init__(self):\n",
        "        super(Net, self).__init__()\n",
        "        self.conv1 = nn.Sequential(\n",
        "            nn.Conv2d(1, 16, 3, padding=1),\n",
        "            nn.ReLU(),\n",
        "            nn.BatchNorm2d(16),\n",
        "            nn.Conv2d(16, 16, 3),\n",
        "            nn.ReLU(),\n",
        "            nn.BatchNorm2d(16),\n",
        "            nn.MaxPool2d(2, 2),\n",
        "            nn.Dropout(0.25)\n",
        "        )\n",
        "\n",
        "        self.conv2 = nn.Sequential(\n",
        "            nn.Conv2d(16, 16, 3, padding=1),\n",
        "            nn.ReLU(),\n",
        "            nn.BatchNorm2d(16),\n",
        "            nn.Conv2d(16, 32, 3, padding=1),\n",
        "            nn.ReLU(),\n",
        "            nn.BatchNorm2d(32),\n",
        "            nn.Conv2d(32, 16, 3, stride=2, padding=1),\n",
        "            nn.ReLU(),\n",
        "            nn.BatchNorm2d(16),\n",
        "            nn.MaxPool2d(2, 2),\n",
        "            nn.Dropout(0.25)\n",
        "        )\n",
        "\n",
        "        self.conv3 = nn.Sequential(\n",
        "            nn.Conv2d(16, 32, 3, padding=1),\n",
        "            nn.ReLU(),\n",
        "            nn.BatchNorm2d(32),\n",
        "            nn.MaxPool2d(2, 2),\n",
        "            nn.Dropout(0.25)\n",
        "        )\n",
        "\n",
        "        self.fc = nn.Sequential(\n",
        "            nn.Linear(32, 10)\n",
        "        )\n",
        "\n",
        "\n",
        "\n",
        "    def forward(self, x):\n",
        "        x = self.conv1(x)\n",
        "        x = self.conv2(x)\n",
        "        x = self.conv3(x)\n",
        "\n",
        "        x = x.view(x.size(0), -1)\n",
        "        x = self.fc(x)\n",
        "        x = F.log_softmax(x, dim=1)\n",
        "        return x\n"
      ],
      "metadata": {
        "id": "c0XnCoucQsFu"
      },
      "execution_count": 92,
      "outputs": []
    },
    {
      "cell_type": "code",
      "source": [
        "!pip install torchsummary\n",
        "import os\n",
        "os.environ['CUDA_LAUNCH_BLOCKING'] = '1'\n",
        "from torchsummary import summary\n",
        "use_cuda = torch.cuda.is_available()\n",
        "print(\"CUDA Available?\", use_cuda)\n",
        "device = torch.device(\"cuda\" if use_cuda else \"cpu\")\n",
        "model = Net().to(device)\n",
        "summary(model, input_size=(1, 28, 28))"
      ],
      "metadata": {
        "colab": {
          "base_uri": "https://localhost:8080/"
        },
        "id": "7FlhBDVBQ021",
        "outputId": "7f8e91dd-9606-4c25-805b-20dc6948239c"
      },
      "execution_count": 93,
      "outputs": [
        {
          "output_type": "stream",
          "name": "stdout",
          "text": [
            "Requirement already satisfied: torchsummary in /usr/local/lib/python3.12/dist-packages (1.5.1)\n",
            "CUDA Available? True\n",
            "----------------------------------------------------------------\n",
            "        Layer (type)               Output Shape         Param #\n",
            "================================================================\n",
            "            Conv2d-1           [-1, 16, 28, 28]             160\n",
            "              ReLU-2           [-1, 16, 28, 28]               0\n",
            "       BatchNorm2d-3           [-1, 16, 28, 28]              32\n",
            "            Conv2d-4           [-1, 16, 26, 26]           2,320\n",
            "              ReLU-5           [-1, 16, 26, 26]               0\n",
            "       BatchNorm2d-6           [-1, 16, 26, 26]              32\n",
            "         MaxPool2d-7           [-1, 16, 13, 13]               0\n",
            "           Dropout-8           [-1, 16, 13, 13]               0\n",
            "            Conv2d-9           [-1, 16, 13, 13]           2,320\n",
            "             ReLU-10           [-1, 16, 13, 13]               0\n",
            "      BatchNorm2d-11           [-1, 16, 13, 13]              32\n",
            "           Conv2d-12           [-1, 32, 13, 13]           4,640\n",
            "             ReLU-13           [-1, 32, 13, 13]               0\n",
            "      BatchNorm2d-14           [-1, 32, 13, 13]              64\n",
            "           Conv2d-15             [-1, 16, 7, 7]           4,624\n",
            "             ReLU-16             [-1, 16, 7, 7]               0\n",
            "      BatchNorm2d-17             [-1, 16, 7, 7]              32\n",
            "        MaxPool2d-18             [-1, 16, 3, 3]               0\n",
            "          Dropout-19             [-1, 16, 3, 3]               0\n",
            "           Conv2d-20             [-1, 32, 3, 3]           4,640\n",
            "             ReLU-21             [-1, 32, 3, 3]               0\n",
            "      BatchNorm2d-22             [-1, 32, 3, 3]              64\n",
            "        MaxPool2d-23             [-1, 32, 1, 1]               0\n",
            "          Dropout-24             [-1, 32, 1, 1]               0\n",
            "           Linear-25                   [-1, 10]             330\n",
            "================================================================\n",
            "Total params: 19,290\n",
            "Trainable params: 19,290\n",
            "Non-trainable params: 0\n",
            "----------------------------------------------------------------\n",
            "Input size (MB): 0.00\n",
            "Forward/backward pass size (MB): 0.79\n",
            "Params size (MB): 0.07\n",
            "Estimated Total Size (MB): 0.87\n",
            "----------------------------------------------------------------\n"
          ]
        }
      ]
    },
    {
      "cell_type": "code",
      "source": [
        "torch.manual_seed(1)\n",
        "batch_size = 16\n",
        "SEED = 1\n",
        "cuda = torch.cuda.is_available()\n",
        "print(\"CUDA Available?\", cuda)\n",
        "\n",
        "# For reproducibility\n",
        "torch.manual_seed(SEED)\n",
        "\n",
        "if cuda:\n",
        "    torch.cuda.manual_seed(SEED)\n",
        "\n",
        "kwargs = {'num_workers': 2, 'pin_memory': True} if use_cuda else {}\n",
        "batch_size = 16\n",
        "classes = range(10)\n",
        "train = torch.utils.data.DataLoader(\n",
        "    datasets.MNIST('../data', train=True, download=True,\n",
        "                    transform=transforms.Compose([\n",
        "                        transforms.ToTensor(),\n",
        "                        transforms.Normalize((0.1307,), (0.3081,))\n",
        "                    ])),\n",
        "    batch_size=batch_size, shuffle=True, **kwargs)\n",
        "test = torch.utils.data.DataLoader(\n",
        "    datasets.MNIST('../data', train=False, transform=transforms.Compose([\n",
        "                        transforms.ToTensor(),\n",
        "                        transforms.Normalize((0.1307,), (0.3081,))\n",
        "                    ])),\n",
        "    batch_size=batch_size, shuffle=True, **kwargs)\n",
        "#train_loader = torch.utils.data.DataLoader(dataset=train,batch_size=batch_size,shuffle = True)\n",
        "\n",
        "#test_loader  = torch.utils.data.DataLoader(dataset=test,batch_size=batch_size,shuffle = False)\n"
      ],
      "metadata": {
        "id": "f-QZfKpsRBpQ",
        "colab": {
          "base_uri": "https://localhost:8080/"
        },
        "outputId": "dcb16052-543e-4200-ed22-3261c2d7f01a"
      },
      "execution_count": 86,
      "outputs": [
        {
          "output_type": "stream",
          "name": "stdout",
          "text": [
            "CUDA Available? True\n"
          ]
        }
      ]
    },
    {
      "cell_type": "code",
      "source": [
        "import matplotlib.pyplot as plt\n",
        "\n",
        "batch_data, batch_label = next(iter(train))\n",
        "\n",
        "fig = plt.figure()\n",
        "\n",
        "for i in range(12):\n",
        "  plt.subplot(3,4,i+1)\n",
        "  plt.tight_layout()\n",
        "  plt.imshow(batch_data[i].squeeze(0), cmap='gray')\n",
        "  plt.title(batch_label[i].item())\n",
        "  plt.xticks([])\n",
        "  plt.yticks([])"
      ],
      "metadata": {
        "colab": {
          "base_uri": "https://localhost:8080/",
          "height": 463
        },
        "id": "efd0fT6tSqMP",
        "outputId": "d5851b2b-ee2b-47e0-bafc-3cc99940c799"
      },
      "execution_count": 68,
      "outputs": [
        {
          "output_type": "display_data",
          "data": {
            "text/plain": [
              "<Figure size 640x480 with 12 Axes>"
            ],
            "image/png": "[encoded data removed]"
          },
          "metadata": {}
        }
      ]
    },
    {
      "cell_type": "code",
      "source": [
        "all_images = torch.stack([img for img, _ in train], dim=0)\n",
        "flattened_images = all_images.view(-1)\n",
        "mean = flattened_images.mean()\n",
        "std = flattened_images.std()\n",
        "print(f\"Mean of MNIST dataset: {mean.item():.4f}\")\n",
        "print(f\"Standard deviation of MNIST dataset: {std.item():.4f}\")"
      ],
      "metadata": {
        "colab": {
          "base_uri": "https://localhost:8080/"
        },
        "id": "WKL45tiAVAOj",
        "outputId": "457300d5-c602-405b-fa7b-3341d7a39852"
      },
      "execution_count": 69,
      "outputs": [
        {
          "output_type": "stream",
          "name": "stdout",
          "text": [
            "Mean of MNIST dataset: -0.0001\n",
            "Standard deviation of MNIST dataset: 1.0000\n"
          ]
        }
      ]
    },
    {
      "cell_type": "code",
      "source": [
        "model = Net().to(device)\n",
        "criterion = nn.NLLLoss()   # with log_softmax() as the last layer, this is equivalent to cross entropy loss\n",
        "optimizer = torch.optim.Adam(model.parameters(), lr=1e-4)"
      ],
      "metadata": {
        "id": "-vakYsIXRKhv"
      },
      "execution_count": 95,
      "outputs": []
    },
    {
      "cell_type": "code",
      "source": [
        "model"
      ],
      "metadata": {
        "colab": {
          "base_uri": "https://localhost:8080/"
        },
        "id": "110phRdMa7zl",
        "outputId": "6e67046c-8594-4d4c-9c6d-562d94fb9336"
      },
      "execution_count": 8,
      "outputs": [
        {
          "output_type": "execute_result",
          "data": {
            "text/plain": [
              "Net(\n",
              "  (conv1): Sequential(\n",
              "    (0): Conv2d(1, 32, kernel_size=(3, 3), stride=(1, 1), padding=(1, 1))\n",
              "    (1): ReLU()\n",
              "    (2): BatchNorm2d(32, eps=1e-05, momentum=0.1, affine=True, track_running_stats=True)\n",
              "    (3): Conv2d(32, 32, kernel_size=(3, 3), stride=(1, 1), padding=(1, 1))\n",
              "    (4): ReLU()\n",
              "    (5): BatchNorm2d(32, eps=1e-05, momentum=0.1, affine=True, track_running_stats=True)\n",
              "    (6): Conv2d(32, 32, kernel_size=(3, 3), stride=(2, 2), padding=(1, 1))\n",
              "    (7): ReLU()\n",
              "    (8): BatchNorm2d(32, eps=1e-05, momentum=0.1, affine=True, track_running_stats=True)\n",
              "    (9): MaxPool2d(kernel_size=2, stride=2, padding=0, dilation=1, ceil_mode=False)\n",
              "    (10): Dropout(p=0.25, inplace=False)\n",
              "  )\n",
              "  (conv2): Sequential(\n",
              "    (0): Conv2d(32, 64, kernel_size=(3, 3), stride=(1, 1), padding=(1, 1))\n",
              "    (1): ReLU()\n",
              "    (2): BatchNorm2d(64, eps=1e-05, momentum=0.1, affine=True, track_running_stats=True)\n",
              "    (3): Conv2d(64, 64, kernel_size=(3, 3), stride=(1, 1), padding=(1, 1))\n",
              "    (4): ReLU()\n",
              "    (5): BatchNorm2d(64, eps=1e-05, momentum=0.1, affine=True, track_running_stats=True)\n",
              "    (6): Conv2d(64, 64, kernel_size=(3, 3), stride=(2, 2), padding=(1, 1))\n",
              "    (7): ReLU()\n",
              "    (8): BatchNorm2d(64, eps=1e-05, momentum=0.1, affine=True, track_running_stats=True)\n",
              "    (9): MaxPool2d(kernel_size=2, stride=2, padding=0, dilation=1, ceil_mode=False)\n",
              "    (10): Dropout(p=0.25, inplace=False)\n",
              "  )\n",
              "  (conv3): Sequential(\n",
              "    (0): Conv2d(64, 128, kernel_size=(3, 3), stride=(1, 1), padding=(1, 1))\n",
              "    (1): ReLU()\n",
              "    (2): BatchNorm2d(128, eps=1e-05, momentum=0.1, affine=True, track_running_stats=True)\n",
              "    (3): MaxPool2d(kernel_size=2, stride=2, padding=0, dilation=1, ceil_mode=False)\n",
              "    (4): Dropout(p=0.25, inplace=False)\n",
              "  )\n",
              "  (fc): Sequential(\n",
              "    (0): Linear(in_features=128, out_features=10, bias=True)\n",
              "  )\n",
              ")"
            ]
          },
          "metadata": {},
          "execution_count": 8
        }
      ]
    },
    {
      "cell_type": "code",
      "source": [
        "# Training Time!\n",
        "import time\n",
        "import copy\n",
        "\n",
        "# Some initialization work first...\n",
        "epochs = 20\n",
        "train_losses, val_losses = [], []\n",
        "train_accu, val_accu = [], []\n",
        "start_time = time.time()\n",
        "early_stop_counter = 10   # stop when the validation loss does not improve for 10 iterations to prevent overfitting\n",
        "counter = 0\n",
        "best_val_loss = float('Inf')\n",
        "optimizer = torch.optim.Adam(model.parameters(), lr=1e-4)\n",
        "\n",
        "for e in range(epochs):\n",
        "    epoch_start_time = time.time()\n",
        "    running_loss = 0\n",
        "    accuracy=0\n",
        "    # training step\n",
        "    model.train()\n",
        "    for images, labels in train:\n",
        "        images = images.to(device)\n",
        "        labels = labels.to(device)\n",
        "        optimizer.zero_grad()\n",
        "        log_ps = model(images)\n",
        "\n",
        "        ps = torch.exp(log_ps)\n",
        "        top_p, top_class = ps.topk(1, dim=1)\n",
        "        equals = top_class == labels.view(*top_class.shape)\n",
        "        accuracy += torch.mean(equals.type(torch.FloatTensor))\n",
        "\n",
        "        loss = criterion(log_ps, labels)\n",
        "        loss.backward()\n",
        "        optimizer.step()\n",
        "\n",
        "        running_loss += loss.item()\n",
        "\n",
        "    # record training loss and error, then evaluate using validation data\n",
        "    train_losses.append(running_loss/len(train))\n",
        "    train_accu.append(accuracy/len(train))\n",
        "    val_loss = 0\n",
        "    accuracy=0\n",
        "    model.eval()\n",
        "    with torch.no_grad():\n",
        "        for images, labels in test:\n",
        "            images = images.to(device)\n",
        "            labels = labels.to(device)\n",
        "            log_ps = model(images)\n",
        "            val_loss += criterion(log_ps, labels)\n",
        "\n",
        "            ps = torch.exp(log_ps)\n",
        "            top_p, top_class = ps.topk(1, dim=1)\n",
        "            equals = top_class == labels.view(*top_class.shape)\n",
        "            accuracy += torch.mean(equals.type(torch.FloatTensor))\n",
        "    val_losses.append(val_loss/len(test))\n",
        "    val_accu.append(accuracy/len(test))\n",
        "\n",
        "    print(\"Epoch: {}/{}.. \".format(e+1, epochs),\n",
        "          \"Time: {:.2f}s..\".format(time.time()-epoch_start_time),\n",
        "          \"Training Loss: {:.3f}.. \".format(train_losses[-1]),\n",
        "          \"Training Accu: {:.3f}.. \".format(train_accu[-1]),\n",
        "          \"Val Loss: {:.3f}.. \".format(val_losses[-1]),\n",
        "          \"Val Accu: {:.3f}\".format(val_accu[-1]))\n",
        "\n",
        "#     print('Epoch %d / %d took %6.2f seconds' % (e+1, epochs, time.time()-epoch_start_time))\n",
        "#     print('Total training time till this epoch was %8.2f seconds' % (time.time()-start_time))\n",
        "\n",
        "    if val_losses[-1] < best_val_loss:\n",
        "        best_val_loss = val_losses[-1]\n",
        "        counter=0\n",
        "        best_model_wts = copy.deepcopy(model.state_dict())\n",
        "    else:\n",
        "        counter+=1\n",
        "        print('Validation loss has not improved since: {:.3f}..'.format(best_val_loss), 'Count: ', str(counter))\n",
        "        if counter >= early_stop_counter:\n",
        "            print('Early Stopping Now!!!!')\n",
        "            model.load_state_dict(best_model_wts)\n",
        "            break"
      ],
      "metadata": {
        "colab": {
          "base_uri": "https://localhost:8080/"
        },
        "id": "dPdnIZEm7n7G",
        "outputId": "ec9e24a2-cc71-4fb3-b77a-3437141fddf4"
      },
      "execution_count": 96,
      "outputs": [
        {
          "output_type": "stream",
          "name": "stdout",
          "text": [
            "Epoch: 1/20..  Time: 42.39s.. Training Loss: 0.968..  Training Accu: 0.699..  Val Loss: 0.160..  Val Accu: 0.959\n",
            "Epoch: 2/20..  Time: 41.32s.. Training Loss: 0.261..  Training Accu: 0.928..  Val Loss: 0.080..  Val Accu: 0.976\n",
            "Epoch: 3/20..  Time: 42.31s.. Training Loss: 0.173..  Training Accu: 0.952..  Val Loss: 0.054..  Val Accu: 0.982\n",
            "Epoch: 4/20..  Time: 42.38s.. Training Loss: 0.132..  Training Accu: 0.962..  Val Loss: 0.043..  Val Accu: 0.985\n",
            "Epoch: 5/20..  Time: 41.68s.. Training Loss: 0.110..  Training Accu: 0.969..  Val Loss: 0.043..  Val Accu: 0.986\n",
            "Validation loss has not improved since: 0.043.. Count:  1\n",
            "Epoch: 6/20..  Time: 42.57s.. Training Loss: 0.098..  Training Accu: 0.972..  Val Loss: 0.036..  Val Accu: 0.988\n",
            "Epoch: 7/20..  Time: 41.59s.. Training Loss: 0.088..  Training Accu: 0.975..  Val Loss: 0.035..  Val Accu: 0.988\n",
            "Epoch: 8/20..  Time: 41.69s.. Training Loss: 0.081..  Training Accu: 0.976..  Val Loss: 0.029..  Val Accu: 0.990\n",
            "Epoch: 9/20..  Time: 41.79s.. Training Loss: 0.074..  Training Accu: 0.979..  Val Loss: 0.029..  Val Accu: 0.990\n",
            "Epoch: 10/20..  Time: 42.42s.. Training Loss: 0.068..  Training Accu: 0.981..  Val Loss: 0.028..  Val Accu: 0.991\n",
            "Epoch: 11/20..  Time: 42.29s.. Training Loss: 0.065..  Training Accu: 0.981..  Val Loss: 0.027..  Val Accu: 0.990\n",
            "Epoch: 12/20..  Time: 41.32s.. Training Loss: 0.062..  Training Accu: 0.981..  Val Loss: 0.023..  Val Accu: 0.992\n",
            "Epoch: 13/20..  Time: 41.41s.. Training Loss: 0.059..  Training Accu: 0.983..  Val Loss: 0.025..  Val Accu: 0.992\n",
            "Validation loss has not improved since: 0.023.. Count:  1\n",
            "Epoch: 14/20..  Time: 41.77s.. Training Loss: 0.055..  Training Accu: 0.984..  Val Loss: 0.023..  Val Accu: 0.992\n",
            "Epoch: 15/20..  Time: 41.31s.. Training Loss: 0.052..  Training Accu: 0.984..  Val Loss: 0.024..  Val Accu: 0.992\n",
            "Validation loss has not improved since: 0.023.. Count:  1\n",
            "Epoch: 16/20..  Time: 42.86s.. Training Loss: 0.054..  Training Accu: 0.984..  Val Loss: 0.020..  Val Accu: 0.993\n",
            "Epoch: 17/20..  Time: 41.23s.. Training Loss: 0.050..  Training Accu: 0.985..  Val Loss: 0.022..  Val Accu: 0.993\n",
            "Validation loss has not improved since: 0.020.. Count:  1\n",
            "Epoch: 18/20..  Time: 41.22s.. Training Loss: 0.048..  Training Accu: 0.985..  Val Loss: 0.021..  Val Accu: 0.993\n",
            "Validation loss has not improved since: 0.020.. Count:  2\n",
            "Epoch: 19/20..  Time: 41.84s.. Training Loss: 0.049..  Training Accu: 0.986..  Val Loss: 0.022..  Val Accu: 0.992\n",
            "Validation loss has not improved since: 0.020.. Count:  3\n",
            "Epoch: 20/20..  Time: 41.27s.. Training Loss: 0.048..  Training Accu: 0.986..  Val Loss: 0.021..  Val Accu: 0.993\n",
            "Validation loss has not improved since: 0.020.. Count:  4\n"
          ]
        }
      ]
    }
  ]
}